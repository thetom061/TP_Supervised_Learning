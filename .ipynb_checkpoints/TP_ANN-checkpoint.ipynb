{
 "cells": [
  {
   "cell_type": "markdown",
   "metadata": {},
   "source": [
    "# Chargement du jeu de données MNIST"
   ]
  },
  {
   "cell_type": "code",
   "execution_count": 2,
   "metadata": {},
   "outputs": [],
   "source": [
    "from sklearn.datasets import fetch_openml\n",
    "mnist=fetch_openml('mnist_784')"
   ]
  },
  {
   "cell_type": "markdown",
   "metadata": {},
   "source": [
    ".On divise la base de données en 49000 lignes pour l'apprentissage et le reste pour les tests."
   ]
  },
  {
   "cell_type": "code",
   "execution_count": 3,
   "metadata": {},
   "outputs": [],
   "source": [
    "from sklearn.model_selection import train_test_split\n",
    "\n",
    "size_train = 49000\n",
    "xtrain, xtest, ytrain, ytest = train_test_split(mnist.data, mnist.target, train_size=size_train/len(mnist.target))"
   ]
  },
  {
   "cell_type": "markdown",
   "metadata": {},
   "source": [
    "# Méthode des neurones artificiels"
   ]
  },
  {
   "cell_type": "markdown",
   "metadata": {},
   "source": [
    "## 1. Application de la méthode"
   ]
  },
  {
   "cell_type": "code",
   "execution_count": 4,
   "metadata": {},
   "outputs": [],
   "source": [
    "from sklearn.neural_network import MLPClassifier\n",
    "from sklearn.metrics import precision_score\n",
    "from time import time "
   ]
  },
  {
   "cell_type": "code",
   "execution_count": 5,
   "metadata": {},
   "outputs": [
    {
     "name": "stdout",
     "output_type": "stream",
     "text": [
      "Accuracy: 0.9444761904761905, Précision: 0.9444761904761905, Temps d'apprentissage: 76.34305667877197 seconde, Temps prédiction: 0.06183481216430664 secondes\n"
     ]
    }
   ],
   "source": [
    "tps1=time()\n",
    "clf= MLPClassifier(hidden_layer_sizes=50).fit(xtrain,ytrain)\n",
    "tps2=time()\n",
    "tpsapp=tps2-tps1\n",
    "score=clf.score(xtest,ytest)\n",
    "tps1=time()\n",
    "ypred=ypred=clf.predict(xtest)\n",
    "tps2=time()\n",
    "tpspred=tps2-tps1\n",
    "prec=precision_score(ytest,ypred,average=\"micro\")\n",
    "print(f\"Accuracy: {score}, Précision: {prec}, Temps d'apprentissage: {tpsapp} seconde, Temps prédiction: {tpspred} secondes\")"
   ]
  },
  {
   "cell_type": "code",
   "execution_count": 7,
   "metadata": {},
   "outputs": [
    {
     "name": "stdout",
     "output_type": "stream",
     "text": [
      "8\n",
      "8\n"
     ]
    }
   ],
   "source": [
    "print(clf.predict(xtest)[5])\n",
    "print(ytest[5])"
   ]
  },
  {
   "cell_type": "markdown",
   "metadata": {},
   "source": [
    "## 2. Variation du nombre de couches cachées"
   ]
  },
  {
   "cell_type": "code",
   "execution_count": 14,
   "metadata": {},
   "outputs": [],
   "source": [
    "import numpy as np\n",
    "indices_random=np.random.randint(70000,size=5000)\n",
    "xtrain, xtest, ytrain, ytest = train_test_split(mnist.data[indices_random], mnist.target[indices_random], train_size=0.8)"
   ]
  },
  {
   "cell_type": "code",
   "execution_count": 15,
   "metadata": {},
   "outputs": [
    {
     "name": "stdout",
     "output_type": "stream",
     "text": [
      "Nombre de couches:2, Accuracy: 0.816, Précision: 0.816, Temps d'apprentissage: 3.9065568447113037 seconde, Temps prédiction: 0.0039899349212646484 secondes\n",
      " \n",
      "Nombre de couches:3, Accuracy: 0.828, Précision: 0.828, Temps d'apprentissage: 4.727361679077148 seconde, Temps prédiction: 0.00598454475402832 secondes\n",
      " \n",
      "Nombre de couches:4, Accuracy: 0.865, Précision: 0.865, Temps d'apprentissage: 5.75760817527771 seconde, Temps prédiction: 0.0059850215911865234 secondes\n",
      " \n",
      "Nombre de couches:5, Accuracy: 0.849, Précision: 0.849, Temps d'apprentissage: 6.669171333312988 seconde, Temps prédiction: 0.008975744247436523 secondes\n",
      " \n",
      "Nombre de couches:6, Accuracy: 0.865, Précision: 0.865, Temps d'apprentissage: 5.468379020690918 seconde, Temps prédiction: 0.012966632843017578 secondes\n",
      " \n",
      "Nombre de couches:7, Accuracy: 0.861, Précision: 0.861, Temps d'apprentissage: 5.323765993118286 seconde, Temps prédiction: 0.014915227890014648 secondes\n",
      " \n",
      "Nombre de couches:8, Accuracy: 0.894, Précision: 0.894, Temps d'apprentissage: 4.722376585006714 seconde, Temps prédiction: 0.01193094253540039 secondes\n",
      " \n",
      "Nombre de couches:9, Accuracy: 0.897, Précision: 0.897, Temps d'apprentissage: 5.968045711517334 seconde, Temps prédiction: 0.012965679168701172 secondes\n",
      " \n",
      "Nombre de couches:10, Accuracy: 0.877, Précision: 0.877, Temps d'apprentissage: 5.361666440963745 seconde, Temps prédiction: 0.01894974708557129 secondes\n",
      " \n",
      "Nombre de couches:11, Accuracy: 0.881, Précision: 0.881, Temps d'apprentissage: 7.089060306549072 seconde, Temps prédiction: 0.01692056655883789 secondes\n",
      " \n",
      "Nombre de couches:12, Accuracy: 0.906, Précision: 0.906, Temps d'apprentissage: 8.080408573150635 seconde, Temps prédiction: 0.017953872680664062 secondes\n",
      " \n",
      "Nombre de couches:13, Accuracy: 0.902, Précision: 0.902, Temps d'apprentissage: 12.17445158958435 seconde, Temps prédiction: 0.0249326229095459 secondes\n",
      " \n",
      "Nombre de couches:14, Accuracy: 0.906, Précision: 0.906, Temps d'apprentissage: 8.241966724395752 seconde, Temps prédiction: 0.023892879486083984 secondes\n",
      " \n",
      "Nombre de couches:15, Accuracy: 0.904, Précision: 0.904, Temps d'apprentissage: 8.024548292160034 seconde, Temps prédiction: 0.020943403244018555 secondes\n",
      " \n",
      "Nombre de couches:16, Accuracy: 0.903, Précision: 0.903, Temps d'apprentissage: 13.913803339004517 seconde, Temps prédiction: 0.019945859909057617 secondes\n",
      " \n",
      "Nombre de couches:17, Accuracy: 0.903, Précision: 0.903, Temps d'apprentissage: 17.886183738708496 seconde, Temps prédiction: 0.028922319412231445 secondes\n",
      " \n",
      "Nombre de couches:18, Accuracy: 0.892, Précision: 0.892, Temps d'apprentissage: 12.950378656387329 seconde, Temps prédiction: 0.02792811393737793 secondes\n",
      " \n",
      "Nombre de couches:19, Accuracy: 0.904, Précision: 0.904, Temps d'apprentissage: 12.456668138504028 seconde, Temps prédiction: 0.02991962432861328 secondes\n",
      " \n",
      "Nombre de couches:20, Accuracy: 0.89, Précision: 0.89, Temps d'apprentissage: 12.975312948226929 seconde, Temps prédiction: 0.03191542625427246 secondes\n",
      " \n",
      "Nombre de couches:21, Accuracy: 0.897, Précision: 0.897, Temps d'apprentissage: 9.639198780059814 seconde, Temps prédiction: 0.03191518783569336 secondes\n",
      " \n",
      "Nombre de couches:22, Accuracy: 0.903, Précision: 0.903, Temps d'apprentissage: 11.105309247970581 seconde, Temps prédiction: 0.028923988342285156 secondes\n",
      " \n",
      "Nombre de couches:23, Accuracy: 0.897, Précision: 0.897, Temps d'apprentissage: 13.574709177017212 seconde, Temps prédiction: 0.030917882919311523 secondes\n",
      " \n",
      "Nombre de couches:24, Accuracy: 0.901, Précision: 0.901, Temps d'apprentissage: 21.23024320602417 seconde, Temps prédiction: 0.040889739990234375 secondes\n",
      " \n",
      "Nombre de couches:25, Accuracy: 0.903, Précision: 0.903, Temps d'apprentissage: 16.295435905456543 seconde, Temps prédiction: 0.04188680648803711 secondes\n",
      " \n",
      "Nombre de couches:26, Accuracy: 0.884, Précision: 0.884, Temps d'apprentissage: 12.24825644493103 seconde, Temps prédiction: 0.038895606994628906 secondes\n",
      " \n",
      "Nombre de couches:27, Accuracy: 0.892, Précision: 0.892, Temps d'apprentissage: 18.06869626045227 seconde, Temps prédiction: 0.037899017333984375 secondes\n",
      " \n",
      "Nombre de couches:28, Accuracy: 0.883, Précision: 0.883, Temps d'apprentissage: 18.517496824264526 seconde, Temps prédiction: 0.04388236999511719 secondes\n",
      " \n",
      "Nombre de couches:29, Accuracy: 0.898, Précision: 0.898, Temps d'apprentissage: 23.049381256103516 seconde, Temps prédiction: 0.036900997161865234 secondes\n",
      " \n"
     ]
    }
   ],
   "source": [
    "for i in range(2,30,1):\n",
    "    tps1=time()\n",
    "    clf= MLPClassifier(hidden_layer_sizes=(50,)*i).fit(xtrain,ytrain)\n",
    "    tps2=time()\n",
    "    tpsapp=tps2-tps1\n",
    "    score=clf.score(xtest,ytest)\n",
    "    tps1=time()\n",
    "    ypred=ypred=clf.predict(xtest)\n",
    "    tps2=time()\n",
    "    tpspred=tps2-tps1\n",
    "    prec=precision_score(ytest,ypred,average=\"micro\")\n",
    "    print(f\"Nombre de couches:{i}, Accuracy: {score}, Précision: {prec}, Temps d'apprentissage: {tpsapp} seconde, Temps prédiction: {tpspred} secondes\")\n",
    "    print(\" \")"
   ]
  },
  {
   "cell_type": "markdown",
   "metadata": {},
   "source": [
    "## 3. Variation aléatoire du nombre de couches et du nombre neurone par couche"
   ]
  },
  {
   "cell_type": "code",
   "execution_count": 18,
   "metadata": {},
   "outputs": [
    {
     "name": "stdout",
     "output_type": "stream",
     "text": [
      "Layers:(149, 176, 86, 60, 277, 290, 55, 185, 196, 171), Accuracy: 0.93, Précision: 0.93, Temps d'apprentissage: 18.78475022315979 seconde, Temps prédiction: 0.057802438735961914 secondes\n",
      " \n",
      "Layers:(19, 151, 241, 205), Accuracy: 0.868, Précision: 0.868, Temps d'apprentissage: 9.887566089630127 seconde, Temps prédiction: 0.018949508666992188 secondes\n",
      " \n",
      "Layers:(44,), Accuracy: 0.852, Précision: 0.852, Temps d'apprentissage: 5.741650819778442 seconde, Temps prédiction: 0.0039899349212646484 secondes\n",
      " \n",
      "Layers:(134, 176, 223, 16, 282, 43), Accuracy: 0.902, Précision: 0.902, Temps d'apprentissage: 19.529795169830322 seconde, Temps prédiction: 0.026974201202392578 secondes\n",
      " \n",
      "Layers:(14, 270, 140, 195, 195, 13, 192, 127, 289, 279), Accuracy: 0.905, Précision: 0.905, Temps d'apprentissage: 20.506138563156128 seconde, Temps prédiction: 0.0468747615814209 secondes\n",
      " \n"
     ]
    }
   ],
   "source": [
    "from random import randint \n",
    "\n",
    "for _ in range(5):\n",
    "    # 1 à 10 layers comprenant entre 10 et 300 neurones aléatoirements\n",
    "    layers=tuple(randint(10,300) for _ in range(randint(1,10)))\n",
    "    tps1=time()\n",
    "    clf= MLPClassifier(hidden_layer_sizes=layers).fit(xtrain,ytrain)\n",
    "    tps2=time()\n",
    "    tpsapp=tps2-tps1\n",
    "    score=clf.score(xtest,ytest)\n",
    "    tps1=time()\n",
    "    ypred=ypred=clf.predict(xtest)\n",
    "    tps2=time()\n",
    "    tpspred=tps2-tps1\n",
    "    prec=precision_score(ytest,ypred,average=\"micro\")\n",
    "    print(f\"Layers:{layers}, Accuracy: {score}, Précision: {prec}, Temps d'apprentissage: {tpsapp} seconde, Temps prédiction: {tpspred} secondes\")\n",
    "    print(\" \")\n",
    "    "
   ]
  },
  {
   "cell_type": "markdown",
   "metadata": {},
   "source": [
    "## 4. Variation de l'algorithme d'optimisation"
   ]
  },
  {
   "cell_type": "code",
   "execution_count": 19,
   "metadata": {},
   "outputs": [
    {
     "name": "stdout",
     "output_type": "stream",
     "text": [
      "Solver:lbfgs, Accuracy: 0.12, Précision: 0.12, Temps d'apprentissage: 0.0827631950378418 seconde, Temps prédiction: 0.002992391586303711 secondes\n",
      " \n"
     ]
    },
    {
     "name": "stderr",
     "output_type": "stream",
     "text": [
      "C:\\Users\\tcott\\Anaconda3\\lib\\site-packages\\sklearn\\neural_network\\multilayer_perceptron.py:566: ConvergenceWarning: Stochastic Optimizer: Maximum iterations (200) reached and the optimization hasn't converged yet.\n",
      "  % self.max_iter, ConvergenceWarning)\n"
     ]
    },
    {
     "name": "stdout",
     "output_type": "stream",
     "text": [
      "Solver:sgd, Accuracy: 0.521, Précision: 0.521, Temps d'apprentissage: 6.878611087799072 seconde, Temps prédiction: 0.002992391586303711 secondes\n",
      " \n",
      "Solver:adam, Accuracy: 0.812, Précision: 0.812, Temps d'apprentissage: 1.5777826309204102 seconde, Temps prédiction: 0.0029926300048828125 secondes\n",
      " \n"
     ]
    }
   ],
   "source": [
    "import matplotlib.pyplot as plt\n",
    "solvers=[\"lbfgs\",\"sgd\",\"adam\"]\n",
    "for solver in solvers:\n",
    "    tps1=time()\n",
    "    clf= MLPClassifier(hidden_layer_sizes=50,solver=solver).fit(xtrain,ytrain)\n",
    "    tps2=time()\n",
    "    tpsapp=tps2-tps1\n",
    "    score=clf.score(xtest,ytest)\n",
    "    tps1=time()\n",
    "    ypred=ypred=clf.predict(xtest)\n",
    "    tps2=time()\n",
    "    tpspred=tps2-tps1\n",
    "    prec=precision_score(ytest,ypred,average=\"micro\")\n",
    "    print(f\"Solver:{solver}, Accuracy: {score}, Précision: {prec}, Temps d'apprentissage: {tpsapp} seconde, Temps prédiction: {tpspred} secondes\")\n",
    "    print(\" \")"
   ]
  },
  {
   "cell_type": "markdown",
   "metadata": {},
   "source": [
    "## 5. Variation de la fonction d'activation"
   ]
  },
  {
   "cell_type": "code",
   "execution_count": 22,
   "metadata": {},
   "outputs": [
    {
     "name": "stdout",
     "output_type": "stream",
     "text": [
      "Activation:identity, Accuracy: 0.853, Précision: 0.853, Temps d'apprentissage: 2.0584962368011475 seconde, Temps prédiction: 0.0030241012573242188 secondes\n",
      " \n",
      "Activation:logistic, Accuracy: 0.899, Précision: 0.899, Temps d'apprentissage: 6.619268894195557 seconde, Temps prédiction: 0.0019948482513427734 secondes\n",
      " \n",
      "Activation:tanh, Accuracy: 0.86, Précision: 0.86, Temps d'apprentissage: 2.0584969520568848 seconde, Temps prédiction: 0.001995086669921875 secondes\n",
      " \n",
      "Activation:relu, Accuracy: 0.842, Précision: 0.842, Temps d'apprentissage: 4.226699352264404 seconde, Temps prédiction: 0.003989458084106445 secondes\n",
      " \n"
     ]
    }
   ],
   "source": [
    "activators=[\"identity\",\"logistic\",\"tanh\",\"relu\"]\n",
    "for activation in activators:\n",
    "    tps1=time()\n",
    "    clf= MLPClassifier(hidden_layer_sizes=50,activation=activation).fit(xtrain,ytrain)\n",
    "    tps2=time()\n",
    "    tpsapp=tps2-tps1\n",
    "    score=clf.score(xtest,ytest)\n",
    "    tps1=time()\n",
    "    ypred=ypred=clf.predict(xtest)\n",
    "    tps2=time()\n",
    "    tpspred=tps2-tps1\n",
    "    prec=precision_score(ytest,ypred,average=\"micro\")\n",
    "    print(f\"Activation:{activation}, Accuracy: {score}, Précision: {prec}, Temps d'apprentissage: {tpsapp} seconde, Temps prédiction: {tpspred} secondes\")\n",
    "    print(\" \")"
   ]
  },
  {
   "cell_type": "markdown",
   "metadata": {},
   "source": [
    "## 6. Variation de régularisation"
   ]
  },
  {
   "cell_type": "code",
   "execution_count": 23,
   "metadata": {},
   "outputs": [
    {
     "name": "stdout",
     "output_type": "stream",
     "text": [
      "Alpha:0.1, Accuracy: 0.822, Précision: 0.822, Temps d'apprentissage: 3.0239365100860596 seconde, Temps prédiction: 0.0029921531677246094 secondes\n",
      " \n",
      "Alpha:0.16681005372000587, Accuracy: 0.839, Précision: 0.839, Temps d'apprentissage: 2.3028435707092285 seconde, Temps prédiction: 0.002992391586303711 secondes\n",
      " \n",
      "Alpha:0.2782559402207124, Accuracy: 0.831, Précision: 0.831, Temps d'apprentissage: 4.0013041496276855 seconde, Temps prédiction: 0.002991199493408203 secondes\n",
      " \n",
      "Alpha:0.46415888336127786, Accuracy: 0.874, Précision: 0.874, Temps d'apprentissage: 4.2237091064453125 seconde, Temps prédiction: 0.001995563507080078 secondes\n",
      " \n",
      "Alpha:0.774263682681127, Accuracy: 0.844, Précision: 0.844, Temps d'apprentissage: 3.657222270965576 seconde, Temps prédiction: 0.003989458084106445 secondes\n",
      " \n",
      "Alpha:1.291549665014884, Accuracy: 0.844, Précision: 0.844, Temps d'apprentissage: 3.522582769393921 seconde, Temps prédiction: 0.001995563507080078 secondes\n",
      " \n",
      "Alpha:2.1544346900318834, Accuracy: 0.826, Précision: 0.826, Temps d'apprentissage: 3.6941237449645996 seconde, Temps prédiction: 0.002992391586303711 secondes\n",
      " \n",
      "Alpha:3.593813663804626, Accuracy: 0.874, Précision: 0.874, Temps d'apprentissage: 5.894243001937866 seconde, Temps prédiction: 0.0029916763305664062 secondes\n",
      " \n",
      "Alpha:5.994842503189409, Accuracy: 0.887, Précision: 0.887, Temps d'apprentissage: 7.073091506958008 seconde, Temps prédiction: 0.003989458084106445 secondes\n",
      " \n",
      "Alpha:10.0, Accuracy: 0.911, Précision: 0.911, Temps d'apprentissage: 7.305468320846558 seconde, Temps prédiction: 0.002991914749145508 secondes\n",
      " \n"
     ]
    }
   ],
   "source": [
    "import numpy as np\n",
    "alphas = np.logspace(-1, 1, 10)\n",
    "for alpha in alphas:\n",
    "    tps1=time()\n",
    "    clf= MLPClassifier(hidden_layer_sizes=50,alpha=alpha).fit(xtrain,ytrain)\n",
    "    tps2=time()\n",
    "    tpsapp=tps2-tps1\n",
    "    score=clf.score(xtest,ytest)\n",
    "    tps1=time()\n",
    "    ypred=ypred=clf.predict(xtest)\n",
    "    tps2=time()\n",
    "    tpspred=tps2-tps1\n",
    "    prec=precision_score(ytest,ypred,average=\"micro\")\n",
    "    print(f\"Alpha:{alpha}, Accuracy: {score}, Précision: {prec}, Temps d'apprentissage: {tpsapp} seconde, Temps prédiction: {tpspred} secondes\")\n",
    "    print(\" \")"
   ]
  }
 ],
 "metadata": {
  "kernelspec": {
   "display_name": "Python 3",
   "language": "python",
   "name": "python3"
  },
  "language_info": {
   "codemirror_mode": {
    "name": "ipython",
    "version": 3
   },
   "file_extension": ".py",
   "mimetype": "text/x-python",
   "name": "python",
   "nbconvert_exporter": "python",
   "pygments_lexer": "ipython3",
   "version": "3.7.3"
  }
 },
 "nbformat": 4,
 "nbformat_minor": 2
}
