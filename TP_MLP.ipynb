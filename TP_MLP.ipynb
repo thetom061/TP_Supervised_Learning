{
 "cells": [
  {
   "cell_type": "markdown",
   "metadata": {},
   "source": [
    "# Chargement du jeu de données MNIST"
   ]
  },
  {
   "cell_type": "code",
   "execution_count": 1,
   "metadata": {},
   "outputs": [],
   "source": [
    "from sklearn.datasets import fetch_openml\n",
    "mnist=fetch_openml('mnist_784')"
   ]
  },
  {
   "cell_type": "markdown",
   "metadata": {},
   "source": [
    ".On divise la base de données en 49000 lignes pour l'apprentissage et le reste pour les tests."
   ]
  },
  {
   "cell_type": "code",
   "execution_count": 2,
   "metadata": {},
   "outputs": [],
   "source": [
    "from sklearn.model_selection import train_test_split\n",
    "\n",
    "size_train = 49000\n",
    "xtrain, xtest, ytrain, ytest = train_test_split(mnist.data, mnist.target, train_size=size_train/len(mnist.target))"
   ]
  },
  {
   "cell_type": "code",
   "execution_count": 3,
   "metadata": {},
   "outputs": [],
   "source": [
    "from sklearn.neural_network import MLPClassifier\n",
    "\n",
    "clf= MLPClassifier(hidden_layer_sizes=50).fit(xtrain,ytrain)"
   ]
  },
  {
   "cell_type": "markdown",
   "metadata": {},
   "source": [
    "Mean accucary"
   ]
  },
  {
   "cell_type": "code",
   "execution_count": 4,
   "metadata": {},
   "outputs": [
    {
     "data": {
      "text/plain": [
       "0.945047619047619"
      ]
     },
     "execution_count": 4,
     "metadata": {},
     "output_type": "execute_result"
    }
   ],
   "source": [
    "clf.score(xtest,ytest)"
   ]
  },
  {
   "cell_type": "code",
   "execution_count": 5,
   "metadata": {},
   "outputs": [
    {
     "name": "stdout",
     "output_type": "stream",
     "text": [
      "0\n",
      "0\n"
     ]
    }
   ],
   "source": [
    "print(clf.predict(xtest)[4])\n",
    "print(ytest[4])"
   ]
  },
  {
   "cell_type": "markdown",
   "metadata": {},
   "source": [
    "Precision tp/(tp+fp)"
   ]
  },
  {
   "cell_type": "code",
   "execution_count": 4,
   "metadata": {},
   "outputs": [
    {
     "name": "stdout",
     "output_type": "stream",
     "text": [
      "0.9467142857142857\n"
     ]
    }
   ],
   "source": [
    "from sklearn.metrics import precision_score\n",
    "\n",
    "ypred=clf.predict(xtest)\n",
    "print(precision_score(ytest,ypred,average=\"micro\"))"
   ]
  },
  {
   "cell_type": "code",
   "execution_count": 7,
   "metadata": {},
   "outputs": [
    {
     "name": "stdout",
     "output_type": "stream",
     "text": [
      "Nombre de couches:2, Précision: 0.9577619047619048, Accuracy/score:0.9577619047619048\n",
      "Nombre de couches:3, Précision: 0.959047619047619, Accuracy/score:0.959047619047619\n",
      "Nombre de couches:4, Précision: 0.9605714285714285, Accuracy/score:0.9605714285714285\n",
      "Nombre de couches:5, Précision: 0.9627619047619047, Accuracy/score:0.9627619047619047\n",
      "Nombre de couches:6, Précision: 0.9692380952380952, Accuracy/score:0.9692380952380952\n",
      "Nombre de couches:7, Précision: 0.9674761904761905, Accuracy/score:0.9674761904761905\n",
      "Nombre de couches:8, Précision: 0.9680952380952381, Accuracy/score:0.9680952380952381\n",
      "Nombre de couches:9, Précision: 0.968, Accuracy/score:0.968\n",
      "Nombre de couches:10, Précision: 0.9698095238095238, Accuracy/score:0.9698095238095238\n",
      "Nombre de couches:11, Précision: 0.9696190476190476, Accuracy/score:0.9696190476190476\n",
      "Nombre de couches:12, Précision: 0.9685238095238096, Accuracy/score:0.9685238095238096\n",
      "Nombre de couches:13, Précision: 0.9678095238095238, Accuracy/score:0.9678095238095238\n",
      "Nombre de couches:14, Précision: 0.9673809523809523, Accuracy/score:0.9673809523809523\n",
      "Nombre de couches:15, Précision: 0.9696190476190476, Accuracy/score:0.9696190476190476\n"
     ]
    }
   ],
   "source": [
    "for i in range(2,16,1):\n",
    "    clf=MLPClassifier(hidden_layer_sizes=((50,)*i)).fit(xtrain,ytrain)\n",
    "    ypred=clf.predict(xtest)\n",
    "    prec=precision_score(ytest,ypred,average=\"micro\")\n",
    "    score=clf.score(xtest,ytest)\n",
    "    print(f\"Nombre de couches:{i}, Précision: {prec}, Accuracy/score:{score}\")"
   ]
  },
  {
   "cell_type": "code",
   "execution_count": 5,
   "metadata": {},
   "outputs": [
    {
     "name": "stdout",
     "output_type": "stream",
     "text": [
      "Layers du réseau: (77,), Précision: 0.9581428571428572, Accuracy/Score: 0.9581428571428572 Temps: 80.1689612865448\n",
      "Layers du réseau: (135, 87, 32, 70, 227, 231), Précision: 0.9754761904761905, Accuracy/Score: 0.9754761904761905 Temps: 320.4677481651306\n",
      "Layers du réseau: (271, 227, 96, 231, 112, 236, 299, 177), Précision: 0.9813809523809524, Accuracy/Score: 0.9813809523809524 Temps: 612.381932258606\n",
      "Layers du réseau: (60, 178, 250, 135, 220, 77, 52, 295, 234, 130), Précision: 0.9763333333333334, Accuracy/Score: 0.9763333333333334 Temps: 329.6482391357422\n",
      "Layers du réseau: (13, 133, 255, 126, 218, 171, 249), Précision: 0.9622857142857143, Accuracy/Score: 0.9622857142857143 Temps: 402.9491059780121\n"
     ]
    }
   ],
   "source": [
    "from random import randint \n",
    "from time import time\n",
    "\n",
    "for _ in range(5):\n",
    "    # 1 à 10 layers comprenant entre 10 et 300 neurones aléatoirements\n",
    "    layers=tuple(randint(10,300) for _ in range(randint(1,10)))\n",
    "    tps1=time()\n",
    "    clf=MLPClassifier(hidden_layer_sizes=layers).fit(xtrain,ytrain)\n",
    "    tps2=time()\n",
    "    ypred=clf.predict(xtest)\n",
    "    prec=precision_score(ytest,ypred,average=\"micro\")\n",
    "    tps=tps2-tps1\n",
    "    score=clf.score(xtest,ytest)\n",
    "    print(f\"Layers du réseau: {layers}, Précision: {prec}, Accuracy/Score: {score} Temps: {tps}\")\n",
    "    "
   ]
  },
  {
   "cell_type": "code",
   "execution_count": 11,
   "metadata": {},
   "outputs": [
    {
     "name": "stdout",
     "output_type": "stream",
     "text": [
      "Solver: lbfgs, Précision: 0.10914285714285714, Accuracy/score:0.10914285714285714, Temps: 0.7300205230712891\n",
      "Solver: sgd, Précision: 0.5554761904761905, Accuracy/score:0.5554761904761905, Temps: 39.332873821258545\n",
      "Solver: adam, Précision: 0.9446190476190476, Accuracy/score:0.9446190476190476, Temps: 92.0183253288269\n"
     ]
    }
   ],
   "source": [
    "import matplotlib.pyplot as plt\n",
    "solvers=[\"lbfgs\",\"sgd\",\"adam\"]\n",
    "for solver in solvers:\n",
    "    tps1=time()\n",
    "    clf=MLPClassifier(hidden_layer_sizes=50,solver=solver).fit(xtrain,ytrain)\n",
    "    tps2=time()\n",
    "    tps=tps2-tps1\n",
    "    ypred=clf.predict(xtest)\n",
    "    prec=precision_score(ytest,ypred,average=\"micro\")\n",
    "    score=clf.score(xtest,ytest)\n",
    "    print(f\"Solver: {solver}, Précision: {prec}, Accuracy/score:{score}, Temps: {tps}\")"
   ]
  },
  {
   "cell_type": "code",
   "execution_count": 14,
   "metadata": {},
   "outputs": [
    {
     "name": "stdout",
     "output_type": "stream",
     "text": [
      "Activation: identity, Précision: 0.9055238095238095, Accuracy/score:0.9055238095238095, Temps: 18.98256230354309\n",
      "Activation: logistic, Précision: 0.9518571428571428, Accuracy/score:0.9518571428571428, Temps: 112.3936128616333\n",
      "Activation: tanh, Précision: 0.930952380952381, Accuracy/score:0.930952380952381, Temps: 51.462146282196045\n",
      "Activation: relu, Précision: 0.9531428571428572, Accuracy/score:0.9531428571428572, Temps: 78.35325002670288\n"
     ]
    }
   ],
   "source": [
    "activators=[\"identity\",\"logistic\",\"tanh\",\"relu\"]\n",
    "for activation in activators:\n",
    "    tps1=time()\n",
    "    clf=MLPClassifier(hidden_layer_sizes=50,activation=activation).fit(xtrain,ytrain)\n",
    "    tps2=time()\n",
    "    tps=tps2-tps1\n",
    "    ypred=clf.predict(xtest)\n",
    "    prec=precision_score(ytest,ypred,average=\"micro\")\n",
    "    score=clf.score(xtest,ytest)\n",
    "    print(f\"Activation: {activation}, Précision: {prec}, Accuracy/score:{score}, Temps: {tps}\")"
   ]
  },
  {
   "cell_type": "code",
   "execution_count": null,
   "metadata": {},
   "outputs": [],
   "source": [
    "import numpy as np\n",
    "alphas = np.logspace(-5, 1, 10)\n",
    "for alpha in alphas:\n",
    "    tps1=time()\n",
    "    clf=MLPClassifier(hidden_layer_sizes=50,alpha=alpha).fit(xtrain,ytrain)\n",
    "    tps2=time()\n",
    "    tps=tps2-tps1\n",
    "    ypred=clf.predict(xtest)\n",
    "    prec=precision_score(ytest,ypred,average=\"micro\")\n",
    "    score=clf.score(xtest,ytest)\n",
    "    print(f\"Alpha: {alpha}, Précision: {prec}, Accuracy/score:{score}, Temps: {tps}\")\n"
   ]
  },
  {
   "cell_type": "code",
   "execution_count": null,
   "metadata": {},
   "outputs": [],
   "source": []
  },
  {
   "cell_type": "code",
   "execution_count": null,
   "metadata": {},
   "outputs": [],
   "source": []
  }
 ],
 "metadata": {
  "kernelspec": {
   "display_name": "Python 3",
   "language": "python",
   "name": "python3"
  },
  "language_info": {
   "codemirror_mode": {
    "name": "ipython",
    "version": 3
   },
   "file_extension": ".py",
   "mimetype": "text/x-python",
   "name": "python",
   "nbconvert_exporter": "python",
   "pygments_lexer": "ipython3",
   "version": "3.7.3"
  }
 },
 "nbformat": 4,
 "nbformat_minor": 2
}
