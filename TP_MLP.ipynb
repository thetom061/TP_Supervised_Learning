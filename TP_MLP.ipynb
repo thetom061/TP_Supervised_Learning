{
 "cells": [
  {
   "cell_type": "markdown",
   "metadata": {},
   "source": [
    "# Chargement du jeu de données MNIST"
   ]
  },
  {
   "cell_type": "code",
   "execution_count": 1,
   "metadata": {},
   "outputs": [],
   "source": [
    "from sklearn.datasets import fetch_openml\n",
    "mnist=fetch_openml('mnist_784')"
   ]
  },
  {
   "cell_type": "markdown",
   "metadata": {},
   "source": [
    ".On divise la base de données en 49000 lignes pour l'apprentissage et le reste pour les tests."
   ]
  },
  {
   "cell_type": "code",
   "execution_count": 7,
   "metadata": {},
   "outputs": [],
   "source": [
    "from sklearn.model_selection import train_test_split\n",
    "\n",
    "size_train = 49000\n",
    "xtrain, xtest, ytrain, ytest = train_test_split(mnist.data, mnist.target, train_size=size_train/len(mnist.target))"
   ]
  },
  {
   "cell_type": "code",
   "execution_count": 8,
   "metadata": {},
   "outputs": [],
   "source": [
    "from sklearn.neural_network import MLPClassifier\n",
    "\n",
    "clf= MLPClassifier(hidden_layer_sizes=50).fit(xtrain,ytrain)"
   ]
  },
  {
   "cell_type": "markdown",
   "metadata": {},
   "source": [
    "Mean accucary"
   ]
  },
  {
   "cell_type": "code",
   "execution_count": 10,
   "metadata": {},
   "outputs": [
    {
     "data": {
      "text/plain": [
       "0.9447619047619048"
      ]
     },
     "execution_count": 10,
     "metadata": {},
     "output_type": "execute_result"
    }
   ],
   "source": [
    "clf.score(xtest,ytest)"
   ]
  },
  {
   "cell_type": "code",
   "execution_count": 12,
   "metadata": {},
   "outputs": [
    {
     "name": "stdout",
     "output_type": "stream",
     "text": [
      "4\n",
      "4\n"
     ]
    }
   ],
   "source": [
    "print(clf.predict(xtest)[4])\n",
    "print(ytest[4])"
   ]
  },
  {
   "cell_type": "markdown",
   "metadata": {},
   "source": [
    "Precision tp/(tp+fp)"
   ]
  },
  {
   "cell_type": "code",
   "execution_count": 15,
   "metadata": {},
   "outputs": [
    {
     "name": "stdout",
     "output_type": "stream",
     "text": [
      "0.9447619047619048\n"
     ]
    }
   ],
   "source": [
    "from sklearn.metrics import precision_score\n",
    "\n",
    "ypred=clf.predict(xtest)\n",
    "print(precision_score(ytest,ypred,average=\"micro\"))"
   ]
  },
  {
   "cell_type": "code",
   "execution_count": null,
   "metadata": {},
   "outputs": [
    {
     "name": "stdout",
     "output_type": "stream",
     "text": [
      "Nombre de couches:2, Précision: 0.956, Accuracy/score: 0.956\n",
      "Nombre de couches:3, Précision: 0.9606666666666667, Accuracy/score: 0.9606666666666667\n",
      "Nombre de couches:4, Précision: 0.9615714285714285, Accuracy/score: 0.9615714285714285\n",
      "Nombre de couches:5, Précision: 0.963952380952381, Accuracy/score: 0.963952380952381\n",
      "Nombre de couches:6, Précision: 0.9682857142857143, Accuracy/score: 0.9682857142857143\n",
      "Nombre de couches:7, Précision: 0.9645238095238096, Accuracy/score: 0.9645238095238096\n"
     ]
    }
   ],
   "source": [
    "for i in range(2,51,1):\n",
    "    clf=MLPClassifier(hidden_layer_sizes=((50,)*i)).fit(xtrain,ytrain)\n",
    "    ypred=clf.predict(xtest)\n",
    "    prec=precision_score(ytest,ypred,average=\"micro\")\n",
    "    score=clf.score(xtest,ytest)\n",
    "    print(f\"Nombre de couches:{i}, Précision: {prec}, Accuracy/score:{score}\")"
   ]
  },
  {
   "cell_type": "code",
   "execution_count": null,
   "metadata": {},
   "outputs": [],
   "source": []
  }
 ],
 "metadata": {
  "kernelspec": {
   "display_name": "Python 3",
   "language": "python",
   "name": "python3"
  },
  "language_info": {
   "codemirror_mode": {
    "name": "ipython",
    "version": 3
   },
   "file_extension": ".py",
   "mimetype": "text/x-python",
   "name": "python",
   "nbconvert_exporter": "python",
   "pygments_lexer": "ipython3",
   "version": "3.7.3"
  }
 },
 "nbformat": 4,
 "nbformat_minor": 2
}
