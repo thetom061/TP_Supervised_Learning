{
 "cells": [
  {
   "cell_type": "markdown",
   "metadata": {},
   "source": [
    "# Chargement jeu de données MNIST"
   ]
  },
  {
   "cell_type": "code",
   "execution_count": 4,
   "metadata": {},
   "outputs": [],
   "source": [
    "from sklearn.datasets import fetch_openml\n",
    "mnist=fetch_openml('mnist_784')"
   ]
  },
  {
   "cell_type": "code",
   "execution_count": 14,
   "metadata": {},
   "outputs": [],
   "source": [
    "from sklearn.model_selection import train_test_split\n",
    "from numpy.random import randint\n",
    "indices_random=randint(70000,size=10000)\n",
    "xtrain, xtest, ytrain, ytest = train_test_split(mnist.data[indices_random], mnist.target[indices_random], train_size=0.7)"
   ]
  },
  {
   "cell_type": "markdown",
   "metadata": {},
   "source": [
    "# Méthode SVM"
   ]
  },
  {
   "cell_type": "markdown",
   "metadata": {},
   "source": [
    "## 1. Application Initiale"
   ]
  },
  {
   "cell_type": "code",
   "execution_count": 13,
   "metadata": {},
   "outputs": [
    {
     "name": "stdout",
     "output_type": "stream",
     "text": [
      "Accuracy: 0.9193333333333333, Précision: 0.9193333333333333, Temps d'apprentissage: 7.157123327255249 seconde, Temps prédiction: 5.2699079513549805 secondes\n"
     ]
    }
   ],
   "source": [
    "from sklearn import svm \n",
    "from numpy import linspace\n",
    "from time import time\n",
    "\n",
    "tps1=time()\n",
    "clf= svm.SVC(kernel=\"linear\",gamma=\"auto\").fit(xtrain,ytrain)\n",
    "tps2=time()\n",
    "tpsapp=tps2-tps1\n",
    "score=clf.score(xtest,ytest)\n",
    "tps1=time()\n",
    "ypred=ypred=clf.predict(xtest)\n",
    "tps2=time()\n",
    "tpspred=tps2-tps1\n",
    "prec=precision_score(ytest,ypred,average=\"micro\")\n",
    "print(f\"Accuracy: {score}, Précision: {prec}, Temps d'apprentissage: {tpsapp} seconde, Temps prédiction: {tpspred} secondes\")"
   ]
  },
  {
   "cell_type": "markdown",
   "metadata": {},
   "source": [
    "## 2. Variation du kernel"
   ]
  },
  {
   "cell_type": "code",
   "execution_count": 15,
   "metadata": {},
   "outputs": [
    {
     "name": "stdout",
     "output_type": "stream",
     "text": [
      "Kernel:linear, Accuracy: 0.917, Précision: 0.917, Temps d'apprentissage: 7.297356128692627 seconde, Temps prédiction: 5.209060907363892 secondes\n",
      " \n",
      "Kernel:poly, Accuracy: 0.951, Précision: 0.951, Temps d'apprentissage: 9.97330355644226 seconde, Temps prédiction: 4.793187618255615 secondes\n",
      " \n",
      "Kernel:rbf, Accuracy: 0.187, Précision: 0.187, Temps d'apprentissage: 77.99657535552979 seconde, Temps prédiction: 17.9061222076416 secondes\n",
      " \n",
      "Kernel:sigmoid, Accuracy: 0.10833333333333334, Précision: 0.10833333333333334, Temps d'apprentissage: 72.48120069503784 seconde, Temps prédiction: 16.89084529876709 secondes\n",
      " \n"
     ]
    }
   ],
   "source": [
    "kernels=[\"linear\",\"poly\", \"rbf\",\"sigmoid\"]\n",
    "\n",
    "for kernel in kernels:\n",
    "    tps1=time()\n",
    "    clf= svm.SVC(kernel=kernel,gamma=\"auto\").fit(xtrain,ytrain)\n",
    "    tps2=time()\n",
    "    tpsapp=tps2-tps1\n",
    "    score=clf.score(xtest,ytest)\n",
    "    tps1=time()\n",
    "    ypred=ypred=clf.predict(xtest)\n",
    "    tps2=time()\n",
    "    tpspred=tps2-tps1\n",
    "    prec=precision_score(ytest,ypred,average=\"micro\")\n",
    "    print(f\"Kernel:{kernel}, Accuracy: {score}, Précision: {prec}, Temps d'apprentissage: {tpsapp} seconde, Temps prédiction: {tpspred} secondes\")\n",
    "    print(\" \")"
   ]
  },
  {
   "cell_type": "markdown",
   "metadata": {},
   "source": [
    "## 3. Variation du paramètre de tolérance aux erreurs"
   ]
  },
  {
   "cell_type": "code",
   "execution_count": 16,
   "metadata": {},
   "outputs": [
    {
     "name": "stdout",
     "output_type": "stream",
     "text": [
      "Cost:0.1, Accuracy: 0.951, Précision: 0.951, Temps d'apprentissage: 10.542585134506226 seconde, Temps prédiction: 4.882913827896118 secondes\n",
      " \n",
      "Cost:0.325, Accuracy: 0.951, Précision: 0.951, Temps d'apprentissage: 9.960373401641846 seconde, Temps prédiction: 5.149280548095703 secondes\n",
      " \n",
      "Cost:0.55, Accuracy: 0.951, Précision: 0.951, Temps d'apprentissage: 10.07801365852356 seconde, Temps prédiction: 4.885945558547974 secondes\n",
      " \n",
      "Cost:0.775, Accuracy: 0.951, Précision: 0.951, Temps d'apprentissage: 9.98331356048584 seconde, Temps prédiction: 5.117332935333252 secondes\n",
      " \n",
      "Cost:1.0, Accuracy: 0.951, Précision: 0.951, Temps d'apprentissage: 10.27947449684143 seconde, Temps prédiction: 4.853071928024292 secondes\n",
      " \n"
     ]
    }
   ],
   "source": [
    "costs=linspace(0.1,1,5)\n",
    "for C in costs:\n",
    "    tps1=time()\n",
    "    clf= svm.SVC(kernel=\"poly\",gamma=\"auto\",C=C).fit(xtrain,ytrain)\n",
    "    tps2=time()\n",
    "    tpsapp=tps2-tps1\n",
    "    score=clf.score(xtest,ytest)\n",
    "    tps1=time()\n",
    "    ypred=ypred=clf.predict(xtest)\n",
    "    tps2=time()\n",
    "    tpspred=tps2-tps1\n",
    "    prec=precision_score(ytest,ypred,average=\"micro\")\n",
    "    print(f\"Cost:{C}, Accuracy: {score}, Précision: {prec}, Temps d'apprentissage: {tpsapp} seconde, Temps prédiction: {tpspred} secondes\")\n",
    "    print(\" \")"
   ]
  },
  {
   "cell_type": "code",
   "execution_count": 17,
   "metadata": {},
   "outputs": [
    {
     "name": "stdout",
     "output_type": "stream",
     "text": [
      "Cost:0.1, Accuracy: 0.917, Précision: 0.917, Temps d'apprentissage: 7.462058782577515 seconde, Temps prédiction: 5.378578424453735 secondes\n",
      " \n",
      "Cost:0.325, Accuracy: 0.917, Précision: 0.917, Temps d'apprentissage: 8.203070163726807 seconde, Temps prédiction: 6.160530090332031 secondes\n",
      " \n",
      "Cost:0.55, Accuracy: 0.917, Précision: 0.917, Temps d'apprentissage: 8.02957820892334 seconde, Temps prédiction: 5.349746942520142 secondes\n",
      " \n",
      "Cost:0.775, Accuracy: 0.917, Précision: 0.917, Temps d'apprentissage: 7.55276346206665 seconde, Temps prédiction: 5.4773900508880615 secondes\n",
      " \n",
      "Cost:1.0, Accuracy: 0.917, Précision: 0.917, Temps d'apprentissage: 7.473027229309082 seconde, Temps prédiction: 5.8204734325408936 secondes\n",
      " \n"
     ]
    }
   ],
   "source": [
    "costs=linspace(0.1,1,5)\n",
    "for C in costs:\n",
    "    tps1=time()\n",
    "    clf= svm.SVC(kernel=\"linear\",gamma=\"auto\",C=C).fit(xtrain,ytrain)\n",
    "    tps2=time()\n",
    "    tpsapp=tps2-tps1\n",
    "    score=clf.score(xtest,ytest)\n",
    "    tps1=time()\n",
    "    ypred=ypred=clf.predict(xtest)\n",
    "    tps2=time()\n",
    "    tpspred=tps2-tps1\n",
    "    prec=precision_score(ytest,ypred,average=\"micro\")\n",
    "    print(f\"Cost:{C}, Accuracy: {score}, Précision: {prec}, Temps d'apprentissage: {tpsapp} seconde, Temps prédiction: {tpspred} secondes\")\n",
    "    print(\" \")"
   ]
  }
 ],
 "metadata": {
  "kernelspec": {
   "display_name": "Python 3",
   "language": "python",
   "name": "python3"
  },
  "language_info": {
   "codemirror_mode": {
    "name": "ipython",
    "version": 3
   },
   "file_extension": ".py",
   "mimetype": "text/x-python",
   "name": "python",
   "nbconvert_exporter": "python",
   "pygments_lexer": "ipython3",
   "version": "3.7.3"
  }
 },
 "nbformat": 4,
 "nbformat_minor": 2
}
